{
 "cells": [
  {
   "cell_type": "markdown",
   "id": "43c0c6f9",
   "metadata": {},
   "source": [
    "# 1_animal_game"
   ]
  },
  {
   "cell_type": "code",
   "execution_count": 18,
   "id": "9348d1c9",
   "metadata": {},
   "outputs": [],
   "source": [
    "class AnimalNode:\n",
    "    def __init__(self, question):\n",
    "        self.question = question\n",
    "        self.yes_child = None\n",
    "        self.no_child = None\n",
    "\n",
    "    # Return 'a' or 'an' as appropriate for this animal's name.\n",
    "    def article(self):\n",
    "        vowels = ['a', 'e', 'i', 'o', 'u']\n",
    "        return 'an' if self.question[0] in vowels else 'a'\n",
    "\n",
    "    # Return the animal's name with an article.\n",
    "    def full_name(self):\n",
    "        return f'{self.article()} {self.question}'\n",
    "\n",
    "    # Return True if this is a leaf node (which represents an animal).\n",
    "    def is_leaf(self):\n",
    "        return self.yes_child == None\n",
    "\n",
    "    # Ask this node's question and move to the appropriate child.\n",
    "    # Return True if we keep playing.\n",
    "    def ask_question(self):\n",
    "        # See if this is a leaf node.\n",
    "        if not self.is_leaf():\n",
    "            # This is not a leaf.\n",
    "            # Ask the question.\n",
    "            question = input()\n",
    "            if question == 'q':\n",
    "                return False\n",
    "            # Move to the appropriate child.\n",
    "            # If the response is “y,” call the “yes” child’s \n",
    "            # ask_question method and return whatever it returns.\n",
    "            if question == 'y':\n",
    "                response = self.yes_child.ask_question()\n",
    "                return response\n",
    "            # If the response is “n,” call the “no” child’s \n",
    "            # ask_question method and return whatever it returns.\n",
    "            if question == 'n':\n",
    "                response = self.no_child.ask_question()\n",
    "                return response\n",
    "        else:\n",
    "            # It's a leaf. Ask if it the correct animal.\n",
    "            answer = input('Is it the correct animal?')\n",
    "            if answer == 'q': return False\n",
    "            if answer == 'y':\n",
    "                # We guessed it! Gloat a little.\n",
    "                print('I won!😎\\n')\n",
    "            else:\n",
    "                # We guessed wrong. Update the tree.\n",
    "                print('I lost\\n')\n",
    "                # Prompt the user for the new animal’s name. Use the name to make a new AnimalNode object.\n",
    "                new_answer = input('What is new animal’s name?')\n",
    "\n",
    "                # Make a new node to hold the new animal.\n",
    "                new_node = AnimalNode(new_answer)\n",
    "\n",
    "                # Make a new node to hold the current animal.\n",
    "                old_node = self\n",
    "\n",
    "                # Update the current node.\n",
    "                \n",
    "                if new_answer == 'y':\n",
    "                    # Make the new animal be the yes_child.\n",
    "                    self.yes_child = new_node\n",
    "                    self.no_child = old_node\n",
    "                else:\n",
    "                    # Make the new animal be the no_child.\n",
    "                    self.no_child = new_node\n",
    "                    self.yes_child = old_node\n",
    "\n",
    "            # We're done gloating or updating. Ask if we should\n",
    "            # play again. Return True if the user wants to quit.\n",
    "            answer = input('Play again? ')\n",
    "            print()\n",
    "            return answer == 'y'"
   ]
  },
  {
   "cell_type": "code",
   "execution_count": 19,
   "id": "4b27fcaf-9314-4299-8985-7eeee951c954",
   "metadata": {},
   "outputs": [
    {
     "data": {
      "text/plain": [
       "'an'"
      ]
     },
     "execution_count": 19,
     "metadata": {},
     "output_type": "execute_result"
    }
   ],
   "source": [
    "vowels = ['a', 'e', 'i', 'o', 'u']\n",
    "root = AnimalNode('elephant')\n",
    "root.article()"
   ]
  },
  {
   "cell_type": "code",
   "execution_count": 20,
   "id": "aadc7f94-794d-419e-bfd5-6eb806a2f166",
   "metadata": {},
   "outputs": [
    {
     "data": {
      "text/plain": [
       "'an elephant'"
      ]
     },
     "execution_count": 20,
     "metadata": {},
     "output_type": "execute_result"
    }
   ],
   "source": [
    "root.full_name()"
   ]
  },
  {
   "cell_type": "code",
   "execution_count": 21,
   "id": "2b1ea22b-f7de-4aa9-b3d6-ada0dcee156d",
   "metadata": {},
   "outputs": [
    {
     "name": "stdin",
     "output_type": "stream",
     "text": [
      " q\n"
     ]
    },
    {
     "data": {
      "text/plain": [
       "'q'"
      ]
     },
     "execution_count": 21,
     "metadata": {},
     "output_type": "execute_result"
    }
   ],
   "source": [
    "q = input()\n",
    "q"
   ]
  },
  {
   "cell_type": "code",
   "execution_count": 22,
   "id": "f5aa3f0e",
   "metadata": {},
   "outputs": [],
   "source": [
    "def play_game():\n",
    "    # Initialize the tree.\n",
    "    root = AnimalNode('platypus')\n",
    "\n",
    "    # Display instructions.\n",
    "    print('Answer y for Yes, n for No, and q for Quit\\n')\n",
    "\n",
    "    # Repeat until the user quits.\n",
    "    while root.ask_question():\n",
    "        pass"
   ]
  },
  {
   "cell_type": "code",
   "execution_count": 23,
   "id": "99ecfb3e",
   "metadata": {},
   "outputs": [
    {
     "name": "stdout",
     "output_type": "stream",
     "text": [
      "Answer y for Yes, n for No, and q for Quit\n",
      "\n"
     ]
    },
    {
     "name": "stdin",
     "output_type": "stream",
     "text": [
      "Is it the correct animal? n\n"
     ]
    },
    {
     "name": "stdout",
     "output_type": "stream",
     "text": [
      "I lost\n",
      "\n"
     ]
    },
    {
     "name": "stdin",
     "output_type": "stream",
     "text": [
      "What is new animal’s name? cat\n",
      "Play again?  n\n"
     ]
    },
    {
     "name": "stdout",
     "output_type": "stream",
     "text": [
      "\n"
     ]
    }
   ],
   "source": [
    "# Play.\n",
    "play_game()"
   ]
  },
  {
   "cell_type": "code",
   "execution_count": null,
   "id": "3e376334",
   "metadata": {},
   "outputs": [],
   "source": []
  }
 ],
 "metadata": {
  "kernelspec": {
   "display_name": "Python 3 (ipykernel)",
   "language": "python",
   "name": "python3"
  },
  "language_info": {
   "codemirror_mode": {
    "name": "ipython",
    "version": 3
   },
   "file_extension": ".py",
   "mimetype": "text/x-python",
   "name": "python",
   "nbconvert_exporter": "python",
   "pygments_lexer": "ipython3",
   "version": "3.8.5"
  }
 },
 "nbformat": 4,
 "nbformat_minor": 5
}
